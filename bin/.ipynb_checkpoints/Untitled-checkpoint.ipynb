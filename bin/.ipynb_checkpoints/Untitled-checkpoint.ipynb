{
 "cells": [
  {
   "cell_type": "code",
   "execution_count": 99,
   "id": "61093d60",
   "metadata": {},
   "outputs": [],
   "source": [
    "import numpy as np\n",
    "import pandas as pd\n",
    "import datetime\n",
    "# Source/run information\n",
    "save_dir = \"/data/ATCA/analysis/\"\n",
    "data_dir = \"/data/ATCA/ATCA_datareduction/\"\n",
    "target = \"J020507\"\n",
    "epoch = \"2021-10-15\"\n",
    "band = \"X\"\n",
    "timeranges = np.array([\"17:02:30\",\"17:03:30\",\n",
    "                       \"17:04:30\",\"17:05:30\",\n",
    "                       \"17:06:30\",\"17:07:30\",\n",
    "                       \"17:08:30\",\"17:09:30\",\n",
    "                       \"17:10:30\",\n",
    "                       \"18:46:30\",\n",
    "                       \"18:47:30\",\n",
    "                       \"18:49:30\",\"18:50:30\",\n",
    "                       \"18:51:30\",\"18:52:30\",\n",
    "                       \"18:54:30\",\n",
    "                       \"18:55:30\"\n",
    "                      ])\n"
   ]
  },
  {
   "cell_type": "code",
   "execution_count": 57,
   "id": "b140b933",
   "metadata": {},
   "outputs": [
    {
     "name": "stdout",
     "output_type": "stream",
     "text": [
      "[0.3240644824978821, 0.322958636807067, 0.32318095905784966, 0.3246635938337876, 0.32392223537454246, 0.32349711976318474, 0.3247944653105872, 0.3236152765978205, 0.3236718300270247, 0.3192114400394974, 0.31894401640281167, 0.31972295451514393, 0.3169493799815257, 0.319268398173467, 0.3184485823407892, 0.31900653805997964, 0.31944089173383494]\n"
     ]
    }
   ],
   "source": [
    "j020507_xtimes = []\n",
    "for times in timeranges:\n",
    "    df = pd.read_csv(f\"{data_dir}/{target}/{target}_{epoch}_{band}_{times}+00:00:30.csv\")\n",
    "    j020507_xtimes.append(np.squeeze(df[\"# S_Cband\"]))\n",
    "\n",
    "print(j020507_xtimes)"
   ]
  },
  {
   "cell_type": "code",
   "execution_count": 72,
   "id": "8eb7ade4",
   "metadata": {},
   "outputs": [
    {
     "name": "stdout",
     "output_type": "stream",
     "text": [
      "1900-01-01 17:02:30\n",
      "17:03:00\n",
      "17:03:00\n"
     ]
    }
   ],
   "source": [
    "date_time_obj_test = datetime.datetime.strptime(timeranges[0], \"%H:%M:%S\")\n",
    "print(date_time_obj_test)\n",
    "\n",
    "date_time_extra = (date_time_obj_test + datetime.timedelta(0,30)).time()\n",
    "print(date_time_extra)\n",
    "\n",
    "timest_test = date_time_extra.strftime(\"%H:%M:%S\")\n",
    "print(timest_test)"
   ]
  },
  {
   "cell_type": "code",
   "execution_count": 59,
   "id": "03c94ae0",
   "metadata": {},
   "outputs": [
    {
     "name": "stdout",
     "output_type": "stream",
     "text": [
      "[datetime.datetime(2021, 10, 15, 17, 2, 30), datetime.datetime(2021, 10, 15, 17, 3, 30), datetime.datetime(2021, 10, 15, 17, 4, 30), datetime.datetime(2021, 10, 15, 17, 5, 30), datetime.datetime(2021, 10, 15, 17, 6, 30), datetime.datetime(2021, 10, 15, 17, 7, 30), datetime.datetime(2021, 10, 15, 17, 8, 30), datetime.datetime(2021, 10, 15, 17, 9, 30), datetime.datetime(2021, 10, 15, 17, 10, 30), datetime.datetime(2021, 10, 15, 18, 46, 30), datetime.datetime(2021, 10, 15, 18, 47, 30), datetime.datetime(2021, 10, 15, 18, 49, 30), datetime.datetime(2021, 10, 15, 18, 50, 30), datetime.datetime(2021, 10, 15, 18, 51, 30), datetime.datetime(2021, 10, 15, 18, 52, 30), datetime.datetime(2021, 10, 15, 18, 54, 30), datetime.datetime(2021, 10, 15, 18, 55, 30)]\n"
     ]
    }
   ],
   "source": [
    "plt_dates = []\n",
    "\n",
    "for i in range(len(timeranges)):\n",
    "    plt_dates.append(datetime.datetime.strptime(f\"{epoch} {timeranges[i]}\", \"%Y-%m-%d %H:%M:%S\"))\n",
    "\n",
    "print(plt_dates)"
   ]
  },
  {
   "cell_type": "code",
   "execution_count": 60,
   "id": "647c7f09",
   "metadata": {},
   "outputs": [
    {
     "data": {
      "text/plain": [
       "[<matplotlib.lines.Line2D at 0x7fc2828ab320>]"
      ]
     },
     "execution_count": 60,
     "metadata": {},
     "output_type": "execute_result"
    },
    {
     "data": {
      "image/png": "[encoded data removed]",
      "text/plain": [
       "<Figure size 432x288 with 1 Axes>"
      ]
     },
     "metadata": {
      "needs_background": "light"
     },
     "output_type": "display_data"
    }
   ],
   "source": [
    "import matplotlib.pyplot as plt \n",
    "\n",
    "plt.plot_date(plt_dates, j020507_xtimes)"
   ]
  },
  {
   "cell_type": "code",
   "execution_count": 103,
   "id": "7a1cf4ca",
   "metadata": {},
   "outputs": [
    {
     "name": "stdout",
     "output_type": "stream",
     "text": [
      "['17:01:50', '17:02:20', '17:02:50', '17:03:20', '17:03:50', '17:04:20', '17:04:50', '17:05:20', '17:05:50', '17:06:20', '17:06:50', '17:07:20', '17:07:50', '17:08:20', '17:08:50', '17:09:20', '17:09:50', '17:10:20', '17:10:50', '17:11:20']\n",
      "['17:01:50', '17:02:20', '17:02:50', '17:03:20', '17:03:50', '17:04:20', '17:04:50', '17:05:20', '17:05:50', '17:06:20', '17:06:50', '17:07:20', '17:07:50', '17:08:20', '17:08:50', '17:09:20', '17:09:50', '17:10:20', '17:10:50', '17:11:20', '18:46:10', '18:46:40', '18:47:10', '18:47:40', '18:48:10', '18:48:40', '18:49:10', '18:49:40', '18:50:10', '18:50:40', '18:51:10', '18:51:40', '18:52:10', '18:52:40', '18:53:10', '18:53:40', '18:54:10', '18:54:40', '18:55:10', '18:55:40']\n"
     ]
    }
   ],
   "source": [
    "start_str = \"17:01:50\"\n",
    "end_str = \"17:11:09\"\n",
    "\n",
    "start_time = datetime.datetime.strptime(start_str, \"%H:%M:%S\") \n",
    "end_time = datetime.datetime.strptime(end_str, \"%H:%M:%S\") \n",
    "new_time = start_time\n",
    "current_time = start_time\n",
    "timeranges = []\n",
    "timeranges.append(start_str)\n",
    "while new_time <= end_time: \n",
    "    new_time = (new_time + datetime.timedelta(0,30))\n",
    "    current_time = new_time.time()\n",
    "    current_str = new_time.strftime(\"%H:%M:%S\")\n",
    "    timeranges.append(current_str)\n",
    "print(timeranges)\n",
    "\n",
    "\n",
    "start_str = \"18:46:10\"\n",
    "end_str = \"18:55:30\"\n",
    "\n",
    "start_time = datetime.datetime.strptime(start_str, \"%H:%M:%S\") \n",
    "end_time = datetime.datetime.strptime(end_str, \"%H:%M:%S\") \n",
    "new_time = start_time\n",
    "current_time = start_time\n",
    "timeranges.append(start_str)\n",
    "while new_time <= end_time: \n",
    "    new_time = (new_time + datetime.timedelta(0,30))\n",
    "    current_time = new_time.time()\n",
    "    current_str = new_time.strftime(\"%H:%M:%S\")\n",
    "    timeranges.append(current_str)\n",
    "print(timeranges)"
   ]
  },
  {
   "cell_type": "code",
   "execution_count": 118,
   "id": "f453a49e",
   "metadata": {},
   "outputs": [
    {
     "name": "stdout",
     "output_type": "stream",
     "text": [
      "Successful readonly open of default-locked table /data/ATCA/ATCA_datareduction//J020507/casa_files/J020507_X_2021-10-15_17:01:50+00:00:30.cl: 20 columns, 1 rows\n",
      "Successful readonly open of default-locked table /data/ATCA/ATCA_datareduction//J020507/casa_files/J020507_X_2021-10-15_17:02:20+00:00:30.cl: 20 columns, 1 rows\n",
      "Successful readonly open of default-locked table /data/ATCA/ATCA_datareduction//J020507/casa_files/J020507_X_2021-10-15_17:02:50+00:00:30.cl: 20 columns, 1 rows\n",
      "Successful readonly open of default-locked table /data/ATCA/ATCA_datareduction//J020507/casa_files/J020507_X_2021-10-15_17:03:20+00:00:30.cl: 20 columns, 1 rows\n",
      "Successful readonly open of default-locked table /data/ATCA/ATCA_datareduction//J020507/casa_files/J020507_X_2021-10-15_17:03:50+00:00:30.cl: 20 columns, 1 rows\n",
      "Successful readonly open of default-locked table /data/ATCA/ATCA_datareduction//J020507/casa_files/J020507_X_2021-10-15_17:04:20+00:00:30.cl: 20 columns, 1 rows\n",
      "Successful readonly open of default-locked table /data/ATCA/ATCA_datareduction//J020507/casa_files/J020507_X_2021-10-15_17:04:50+00:00:30.cl: 20 columns, 1 rows\n",
      "Successful readonly open of default-locked table /data/ATCA/ATCA_datareduction//J020507/casa_files/J020507_X_2021-10-15_17:05:20+00:00:30.cl: 20 columns, 1 rows\n",
      "Successful readonly open of default-locked table /data/ATCA/ATCA_datareduction//J020507/casa_files/J020507_X_2021-10-15_17:05:50+00:00:30.cl: 20 columns, 1 rows\n",
      "Successful readonly open of default-locked table /data/ATCA/ATCA_datareduction//J020507/casa_files/J020507_X_2021-10-15_17:06:20+00:00:30.cl: 20 columns, 1 rows\n",
      "Successful readonly open of default-locked table /data/ATCA/ATCA_datareduction//J020507/casa_files/J020507_X_2021-10-15_17:06:50+00:00:30.cl: 20 columns, 1 rows\n",
      "Successful readonly open of default-locked table /data/ATCA/ATCA_datareduction//J020507/casa_files/J020507_X_2021-10-15_17:07:20+00:00:30.cl: 20 columns, 1 rows\n",
      "Successful readonly open of default-locked table /data/ATCA/ATCA_datareduction//J020507/casa_files/J020507_X_2021-10-15_17:07:50+00:00:30.cl: 20 columns, 1 rows\n",
      "Successful readonly open of default-locked table /data/ATCA/ATCA_datareduction//J020507/casa_files/J020507_X_2021-10-15_17:08:20+00:00:30.cl: 20 columns, 1 rows\n",
      "Successful readonly open of default-locked table /data/ATCA/ATCA_datareduction//J020507/casa_files/J020507_X_2021-10-15_17:08:50+00:00:30.cl: 20 columns, 1 rows\n",
      "Successful readonly open of default-locked table /data/ATCA/ATCA_datareduction//J020507/casa_files/J020507_X_2021-10-15_17:09:20+00:00:30.cl: 20 columns, 1 rows\n",
      "Successful readonly open of default-locked table /data/ATCA/ATCA_datareduction//J020507/casa_files/J020507_X_2021-10-15_17:09:50+00:00:30.cl: 20 columns, 1 rows\n",
      "Successful readonly open of default-locked table /data/ATCA/ATCA_datareduction//J020507/casa_files/J020507_X_2021-10-15_17:10:20+00:00:30.cl: 20 columns, 1 rows\n",
      "Successful readonly open of default-locked table /data/ATCA/ATCA_datareduction//J020507/casa_files/J020507_X_2021-10-15_17:10:50+00:00:30.cl: 20 columns, 1 rows\n",
      "Successful readonly open of default-locked table /data/ATCA/ATCA_datareduction//J020507/casa_files/J020507_X_2021-10-15_17:11:20+00:00:30.cl: 20 columns, 1 rows\n",
      "Successful readonly open of default-locked table /data/ATCA/ATCA_datareduction//J020507/casa_files/J020507_X_2021-10-15_18:46:10+00:00:30.cl: 20 columns, 1 rows\n",
      "Successful readonly open of default-locked table /data/ATCA/ATCA_datareduction//J020507/casa_files/J020507_X_2021-10-15_18:46:40+00:00:30.cl: 20 columns, 1 rows\n",
      "Successful readonly open of default-locked table /data/ATCA/ATCA_datareduction//J020507/casa_files/J020507_X_2021-10-15_18:47:10+00:00:30.cl: 20 columns, 1 rows\n",
      "Successful readonly open of default-locked table /data/ATCA/ATCA_datareduction//J020507/casa_files/J020507_X_2021-10-15_18:47:40+00:00:30.cl: 20 columns, 1 rows\n",
      "Successful readonly open of default-locked table /data/ATCA/ATCA_datareduction//J020507/casa_files/J020507_X_2021-10-15_18:48:10+00:00:30.cl: 20 columns, 1 rows\n",
      "Successful readonly open of default-locked table /data/ATCA/ATCA_datareduction//J020507/casa_files/J020507_X_2021-10-15_18:48:40+00:00:30.cl: 20 columns, 1 rows\n",
      "Successful readonly open of default-locked table /data/ATCA/ATCA_datareduction//J020507/casa_files/J020507_X_2021-10-15_18:49:10+00:00:30.cl: 20 columns, 1 rows\n",
      "Successful readonly open of default-locked table /data/ATCA/ATCA_datareduction//J020507/casa_files/J020507_X_2021-10-15_18:49:40+00:00:30.cl: 20 columns, 1 rows\n",
      "Successful readonly open of default-locked table /data/ATCA/ATCA_datareduction//J020507/casa_files/J020507_X_2021-10-15_18:50:10+00:00:30.cl: 20 columns, 1 rows\n",
      "Successful readonly open of default-locked table /data/ATCA/ATCA_datareduction//J020507/casa_files/J020507_X_2021-10-15_18:50:40+00:00:30.cl: 20 columns, 1 rows\n",
      "Successful readonly open of default-locked table /data/ATCA/ATCA_datareduction//J020507/casa_files/J020507_X_2021-10-15_18:51:10+00:00:30.cl: 20 columns, 1 rows\n",
      "Successful readonly open of default-locked table /data/ATCA/ATCA_datareduction//J020507/casa_files/J020507_X_2021-10-15_18:51:40+00:00:30.cl: 20 columns, 1 rows\n",
      "Successful readonly open of default-locked table /data/ATCA/ATCA_datareduction//J020507/casa_files/J020507_X_2021-10-15_18:52:10+00:00:30.cl: 20 columns, 1 rows\n",
      "Successful readonly open of default-locked table /data/ATCA/ATCA_datareduction//J020507/casa_files/J020507_X_2021-10-15_18:52:40+00:00:30.cl: 20 columns, 1 rows\n",
      "Successful readonly open of default-locked table /data/ATCA/ATCA_datareduction//J020507/casa_files/J020507_X_2021-10-15_18:53:10+00:00:30.cl: 20 columns, 1 rows\n",
      "Successful readonly open of default-locked table /data/ATCA/ATCA_datareduction//J020507/casa_files/J020507_X_2021-10-15_18:53:40+00:00:30.cl: 20 columns, 1 rows\n",
      "Successful readonly open of default-locked table /data/ATCA/ATCA_datareduction//J020507/casa_files/J020507_X_2021-10-15_18:54:10+00:00:30.cl: 20 columns, 1 rows\n",
      "Successful readonly open of default-locked table /data/ATCA/ATCA_datareduction//J020507/casa_files/J020507_X_2021-10-15_18:54:40+00:00:30.cl: 20 columns, 1 rows\n",
      "Successful readonly open of default-locked table /data/ATCA/ATCA_datareduction//J020507/casa_files/J020507_X_2021-10-15_18:55:10+00:00:30.cl: 20 columns, 1 rows\n",
      "Successful readonly open of default-locked table /data/ATCA/ATCA_datareduction//J020507/casa_files/J020507_X_2021-10-15_18:55:40+00:00:30.cl: 20 columns, 1 rows\n",
      "[0.19879791040490455, 0.19883074460595845, 0.19878000711833138, 0.19881913405181012, 0.19855077260325338, 0.19933234516915044, 0.19903656647704696, 0.19849296577958048, 0.19895745321918987, 0.19913822520161248, 0.19917785904011864, 0.19866378783848382, 0.1988596291599549, 0.19935509257946923, 0.19920146882443673, 0.1992146672190137, 0.19925219470910197, 0.19946408858721348, 0.19947104078823427, 0.1989497651801008, 0.20013177930548987, 0.19981177069139647, 0.20037161483791166, 0.19983343106558898, 0.2002128626208075, 0.19992498057926972, 0.20106162031658723, 0.20070100753946973, 0.20047001223507108, 0.2002601546739679, 0.20013133621383838, 0.20012699593153366, 0.2004331955845929, 0.20034486189912348, 0.2000032769751047, 0.2006727483142589, 0.20012695894857613, 0.20019289590351316, 0.2004002068333058, 0.20070952043607423]\n"
     ]
    },
    {
     "name": "stderr",
     "output_type": "stream",
     "text": [
      "/home/katross/.local/lib/python3.6/site-packages/ipykernel_launcher.py:58: ComplexWarning: Casting complex values to real discards the imaginary part\n"
     ]
    }
   ],
   "source": [
    "from casatasks import (\n",
    "    flagmanager,\n",
    "    flagdata,\n",
    "    mstransform,\n",
    "    listobs,\n",
    "    setjy,\n",
    "    gaincal,\n",
    "    bandpass,\n",
    "    fluxscale,\n",
    "    applycal,\n",
    "    tclean,\n",
    "    rmtables,\n",
    "    impbcor,\n",
    "    split,\n",
    "    uvmodelfit,\n",
    "    exportfits,\n",
    ")\n",
    "import os\n",
    "from casacore.tables import table\n",
    "\n",
    "save_dir = \"/data/ATCA/analysis/\"\n",
    "data_dir = \"/data/ATCA/ATCA_datareduction/\"\n",
    "target = \"J020507\"\n",
    "epoch = \"2021-10-15\"\n",
    "band = \"X\"\n",
    "\n",
    "\n",
    "# mstransform(\n",
    "#     vis=f\"{data_dir}data/{epoch}_{band}_{target}.ms\",\n",
    "#     outputvis=f\"{data_dir}data/{epoch}_{band}_{target}_time2.ms\",\n",
    "#     datacolumn=\"corrected\",\n",
    "#     nspw=1,\n",
    "#     regridms=True,\n",
    "#     field=target,\n",
    "#     combinespws=True\n",
    "# )\n",
    "tar_ms = f\"{data_dir}data/{epoch}_{band}_{target}_time.ms\"\n",
    "\n",
    "j020507_fluxes_X = []\n",
    "\n",
    "outfile = f\"{data_dir}/{target}/casa_files/{target}_{band}_{epoch}.cl\"\n",
    "if (os.path.exists(outfile))is False: \n",
    "    uvmodelfit(\n",
    "        vis=tar_ms,\n",
    "        niter=10,\n",
    "        comptype='P',\n",
    "        outfile=outfile,\n",
    "        field=\"0\",\n",
    "        selectdata=True,\n",
    "        timerange=\"\",\n",
    "    )\n",
    "    tbl = table(outfile)\n",
    "    flux = tbl.getcell(\"Flux\", 0)[0].astype(\"float64\")\n",
    "    j020507_X = flux\n",
    "else:\n",
    "    tbl = table(outfile)\n",
    "    flux = tbl.getcell(\"Flux\", 0)[0].astype(\"float64\")\n",
    "    j020507_X = flux\n",
    "\n",
    "for i in range(len(timeranges)):\n",
    "    timerange = f\"{timeranges[i]}+00:00:30\"\n",
    "    outfile = f\"{data_dir}/{target}/casa_files/{target}_{band}_{epoch}_{timerange}.cl\"\n",
    "    if (os.path.exists(outfile))is False: \n",
    "        uvmodelfit(\n",
    "            vis=tar_ms,\n",
    "            niter=10,\n",
    "            comptype='P',\n",
    "    #         spw=\"0\",\n",
    "    #         sourcepar=[0.3, 2.6, 0.7],\n",
    "            outfile=outfile,\n",
    "            field=\"0\",\n",
    "            selectdata=True,\n",
    "            timerange=timerange,\n",
    "        )\n",
    "    else:\n",
    "        tbl = table(outfile)\n",
    "        flux = tbl.getcell(\"Flux\", 0)[0].astype(\"float64\")\n",
    "        j020507_fluxes_X.append(flux)\n",
    "\n",
    "\n",
    "print(j020507_fluxes_X)"
   ]
  },
  {
   "cell_type": "code",
   "execution_count": 119,
   "id": "c389ba6c",
   "metadata": {},
   "outputs": [
    {
     "name": "stdout",
     "output_type": "stream",
     "text": [
      "[datetime.datetime(2021, 10, 15, 17, 1, 50), datetime.datetime(2021, 10, 15, 17, 2, 20), datetime.datetime(2021, 10, 15, 17, 2, 50), datetime.datetime(2021, 10, 15, 17, 3, 20), datetime.datetime(2021, 10, 15, 17, 3, 50), datetime.datetime(2021, 10, 15, 17, 4, 20), datetime.datetime(2021, 10, 15, 17, 4, 50), datetime.datetime(2021, 10, 15, 17, 5, 20), datetime.datetime(2021, 10, 15, 17, 5, 50), datetime.datetime(2021, 10, 15, 17, 6, 20), datetime.datetime(2021, 10, 15, 17, 6, 50), datetime.datetime(2021, 10, 15, 17, 7, 20), datetime.datetime(2021, 10, 15, 17, 7, 50), datetime.datetime(2021, 10, 15, 17, 8, 20), datetime.datetime(2021, 10, 15, 17, 8, 50), datetime.datetime(2021, 10, 15, 17, 9, 20), datetime.datetime(2021, 10, 15, 17, 9, 50), datetime.datetime(2021, 10, 15, 17, 10, 20), datetime.datetime(2021, 10, 15, 17, 10, 50), datetime.datetime(2021, 10, 15, 17, 11, 20), datetime.datetime(2021, 10, 15, 18, 46, 10), datetime.datetime(2021, 10, 15, 18, 46, 40), datetime.datetime(2021, 10, 15, 18, 47, 10), datetime.datetime(2021, 10, 15, 18, 47, 40), datetime.datetime(2021, 10, 15, 18, 48, 10), datetime.datetime(2021, 10, 15, 18, 48, 40), datetime.datetime(2021, 10, 15, 18, 49, 10), datetime.datetime(2021, 10, 15, 18, 49, 40), datetime.datetime(2021, 10, 15, 18, 50, 10), datetime.datetime(2021, 10, 15, 18, 50, 40), datetime.datetime(2021, 10, 15, 18, 51, 10), datetime.datetime(2021, 10, 15, 18, 51, 40), datetime.datetime(2021, 10, 15, 18, 52, 10), datetime.datetime(2021, 10, 15, 18, 52, 40), datetime.datetime(2021, 10, 15, 18, 53, 10), datetime.datetime(2021, 10, 15, 18, 53, 40), datetime.datetime(2021, 10, 15, 18, 54, 10), datetime.datetime(2021, 10, 15, 18, 54, 40), datetime.datetime(2021, 10, 15, 18, 55, 10), datetime.datetime(2021, 10, 15, 18, 55, 40)]\n"
     ]
    },
    {
     "data": {
      "text/plain": [
       "[<matplotlib.lines.Line2D at 0x7fc2257eccc0>]"
      ]
     },
     "execution_count": 119,
     "metadata": {},
     "output_type": "execute_result"
    },
    {
     "data": {
      "image/png": "[encoded data removed]",
      "text/plain": [
       "<Figure size 432x288 with 1 Axes>"
      ]
     },
     "metadata": {
      "needs_background": "light"
     },
     "output_type": "display_data"
    }
   ],
   "source": [
    "plt_dates = []\n",
    "\n",
    "for i in range(len(timeranges)):\n",
    "    plt_dates.append(datetime.datetime.strptime(f\"{epoch} {timeranges[i]}\", \"%Y-%m-%d %H:%M:%S\"))\n",
    "\n",
    "print(plt_dates)\n",
    "import matplotlib.pyplot as plt \n",
    "\n",
    "plt.plot_date(plt_dates, j020507_fluxes_C)"
   ]
  },
  {
   "cell_type": "code",
   "execution_count": 120,
   "id": "fee37c10",
   "metadata": {},
   "outputs": [
    {
     "name": "stdout",
     "output_type": "stream",
     "text": [
      "[datetime.datetime(2021, 10, 15, 17, 1, 50), datetime.datetime(2021, 10, 15, 17, 2, 20), datetime.datetime(2021, 10, 15, 17, 2, 50), datetime.datetime(2021, 10, 15, 17, 3, 20), datetime.datetime(2021, 10, 15, 17, 3, 50), datetime.datetime(2021, 10, 15, 17, 4, 20), datetime.datetime(2021, 10, 15, 17, 4, 50), datetime.datetime(2021, 10, 15, 17, 5, 20), datetime.datetime(2021, 10, 15, 17, 5, 50), datetime.datetime(2021, 10, 15, 17, 6, 20), datetime.datetime(2021, 10, 15, 17, 6, 50), datetime.datetime(2021, 10, 15, 17, 7, 20), datetime.datetime(2021, 10, 15, 17, 7, 50), datetime.datetime(2021, 10, 15, 17, 8, 20), datetime.datetime(2021, 10, 15, 17, 8, 50), datetime.datetime(2021, 10, 15, 17, 9, 20), datetime.datetime(2021, 10, 15, 17, 9, 50), datetime.datetime(2021, 10, 15, 17, 10, 20), datetime.datetime(2021, 10, 15, 17, 10, 50), datetime.datetime(2021, 10, 15, 17, 11, 20), datetime.datetime(2021, 10, 15, 18, 46, 10), datetime.datetime(2021, 10, 15, 18, 46, 40), datetime.datetime(2021, 10, 15, 18, 47, 10), datetime.datetime(2021, 10, 15, 18, 47, 40), datetime.datetime(2021, 10, 15, 18, 48, 10), datetime.datetime(2021, 10, 15, 18, 48, 40), datetime.datetime(2021, 10, 15, 18, 49, 10), datetime.datetime(2021, 10, 15, 18, 49, 40), datetime.datetime(2021, 10, 15, 18, 50, 10), datetime.datetime(2021, 10, 15, 18, 50, 40), datetime.datetime(2021, 10, 15, 18, 51, 10), datetime.datetime(2021, 10, 15, 18, 51, 40), datetime.datetime(2021, 10, 15, 18, 52, 10), datetime.datetime(2021, 10, 15, 18, 52, 40), datetime.datetime(2021, 10, 15, 18, 53, 10), datetime.datetime(2021, 10, 15, 18, 53, 40), datetime.datetime(2021, 10, 15, 18, 54, 10), datetime.datetime(2021, 10, 15, 18, 54, 40), datetime.datetime(2021, 10, 15, 18, 55, 10), datetime.datetime(2021, 10, 15, 18, 55, 40)]\n"
     ]
    },
    {
     "data": {
      "text/plain": [
       "[<matplotlib.lines.Line2D at 0x7fc225918da0>]"
      ]
     },
     "execution_count": 120,
     "metadata": {},
     "output_type": "execute_result"
    },
    {
     "data": {
      "image/png": "[encoded data removed]",
      "text/plain": [
       "<Figure size 432x288 with 1 Axes>"
      ]
     },
     "metadata": {
      "needs_background": "light"
     },
     "output_type": "display_data"
    }
   ],
   "source": [
    "plt_dates = []\n",
    "\n",
    "for i in range(len(timeranges)):\n",
    "    plt_dates.append(datetime.datetime.strptime(f\"{epoch} {timeranges[i]}\", \"%Y-%m-%d %H:%M:%S\"))\n",
    "\n",
    "print(plt_dates)\n",
    "import matplotlib.pyplot as plt \n",
    "\n",
    "plt.plot_date(plt_dates, j020507_fluxes_X)"
   ]
  }
 ],
 "metadata": {
  "kernelspec": {
   "display_name": "Python 3",
   "language": "python",
   "name": "python3"
  },
  "language_info": {
   "codemirror_mode": {
    "name": "ipython",
    "version": 3
   },
   "file_extension": ".py",
   "mimetype": "text/x-python",
   "name": "python",
   "nbconvert_exporter": "python",
   "pygments_lexer": "ipython3",
   "version": "3.6.9"
  }
 },
 "nbformat": 4,
 "nbformat_minor": 5
}
